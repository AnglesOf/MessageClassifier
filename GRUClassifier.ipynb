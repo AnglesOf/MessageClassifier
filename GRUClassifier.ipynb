{
 "nbformat": 4,
 "nbformat_minor": 0,
 "metadata": {
  "colab": {
   "name": "GRUClassifier.ipynb",
   "provenance": [],
   "collapsed_sections": [
    "iC9349g-TYeB"
   ],
   "mount_file_id": "1JKp5PlW9CgH5Uysq_N5lqeJQhRhHww5d",
   "authorship_tag": "ABX9TyM8gFRDwMnYE+mFj1qXRr2/"
  },
  "kernelspec": {
   "name": "python3",
   "display_name": "Python 3"
  },
  "language_info": {
   "name": "python"
  },
  "accelerator": "GPU",
  "gpuClass": "standard"
 },
 "cells": [
  {
   "cell_type": "code",
   "execution_count": 37,
   "metadata": {
    "id": "OTqKmNPHSeBn",
    "executionInfo": {
     "status": "ok",
     "timestamp": 1660954269133,
     "user_tz": -480,
     "elapsed": 475,
     "user": {
      "displayName": "Xingfu Li",
      "userId": "11879774184867020051"
     }
    }
   },
   "outputs": [],
   "source": [
    "import configparser\n",
    "import time\n",
    "import math\n",
    "import pandas as pd\n",
    "import torch\n",
    "from torch.nn.utils.rnn import pack_padded_sequence\n",
    "from torch.utils.data import Dataset, DataLoader\n",
    "from sklearn.model_selection import train_test_split\n",
    "from sklearn.metrics import confusion_matrix, classification_report\n",
    "import seaborn as sns\n",
    "import matplotlib.pyplot as plt\n",
    "import numpy as np"
   ]
  },
  {
   "cell_type": "code",
   "source": [
    "HIDDEN_SIZE = 512  # 词向量的维度和GRU输入、输出的维度\n",
    "BATCH_SIZE = 128  # 一个Batch的大小\n",
    "N_EPOCHS = 30  # 训练迭代次数\n",
    "N_LABELS = 7   # 类别个数\n",
    "N_WORDS = -1  # 词库中词的个数，计算在下面下面，这个是为了构造嵌入层\n",
    "device = torch.device(\"cuda:0\" if torch.cuda.is_available() else \"cpu\")\n",
    "# device = \"cpu\"\n",
    "print(\"选择设备:\", device)"
   ],
   "metadata": {
    "colab": {
     "base_uri": "https://localhost:8080/"
    },
    "id": "tW8-CGvZTBzS",
    "executionInfo": {
     "status": "ok",
     "timestamp": 1660954271049,
     "user_tz": -480,
     "elapsed": 2,
     "user": {
      "displayName": "Xingfu Li",
      "userId": "11879774184867020051"
     }
    },
    "outputId": "d63ee800-6798-4d5f-b540-c1ede2faf0a6"
   },
   "execution_count": 38,
   "outputs": [
    {
     "output_type": "stream",
     "name": "stdout",
     "text": [
      "选择设备: cuda:0\n"
     ]
    }
   ]
  },
  {
   "cell_type": "markdown",
   "source": [
    "# **定义数据集**"
   ],
   "metadata": {
    "id": "oH2NS0RjTRV5"
   }
  },
  {
   "cell_type": "code",
   "source": [
    "# 定义数据集\n",
    "class MessageDataset(Dataset):\n",
    "    def __init__(self, is_train_set):\n",
    "        super().__init__()\n",
    "        # 加载配置\n",
    "        conf = configparser.ConfigParser()\n",
    "        conf.read('./fileConfig', encoding='utf8')\n",
    "        # 加载数据文件\n",
    "        processed_date = conf.get(\"orgFile\", \"processed_date\")  # 处理后的数据路径\n",
    "        df = pd.read_excel(processed_date)  # 读取数据\n",
    "        # self.data = df[[\"textData\", \"labels\"]]  # 取数据和标签\n",
    "        self.data = df[[\"textData\", \"labels\"]]  # 取数据和标签\n",
    "        self.messages = self.data[\"textData\"]  # 留言中文文本内容\n",
    "        # self.labels = self.data[\"labels\"]  # 留言标签\n",
    "        self.labels = list(self.data[\"labels\"])  # 留言标签\n",
    "        # self.labels = [0, 0, 0, 0, 0, 0, 0, 0, 0, 0, 1, 1, 1, 1, 1, 1, 1, 1, 1, 1]  # 留言标签\n",
    "        self.word2idx, self.idx2word, self.wordNum = self.Word_Proccess(self.messages)  # word2idx, idx2word, 数据中词的个数\n",
    "        self.vecData = self.wordVectorize(self.messages)  # 每个句子的中文文本内容特征化\n",
    "        if is_train_set:\n",
    "            self.x_inputs, _, self.y_inputs, _ = train_test_split(self.vecData, self.labels, train_size=0.7, random_state=1)  # 按照7:3的比例划分训练集和测试集\n",
    "        else:\n",
    "            _, self.x_inputs, _, self.y_inputs = train_test_split(self.vecData, self.labels, train_size=0.7, random_state=1)  # 按照7:3的比例划分训练集和测试集\n",
    "        self.len = len(self.x_inputs)  # 数据总个数\n",
    "\n",
    "    def __getitem__(self, index):\n",
    "        return self.x_inputs[index], self.y_inputs[index]\n",
    "\n",
    "    def __len__(self):\n",
    "        return self.len\n",
    "\n",
    "    def Word_Proccess(self, sentences):\n",
    "        word2idx = {}\n",
    "        idx2word = {}\n",
    "        i = 1\n",
    "        for sentence in sentences:\n",
    "            s = sentence.split(\" \")\n",
    "            for word in s:\n",
    "                if word2idx.get(word) == None:\n",
    "                    word2idx[word] = i\n",
    "                    idx2word[i] = word\n",
    "                    i += 1\n",
    "        return word2idx, idx2word, i-1\n",
    "\n",
    "    def wordVectorize(self, sentences):\n",
    "        vecs = []\n",
    "        for sentence in sentences:\n",
    "            s = sentence.split(\" \")\n",
    "            vec = [self.word2idx.get(word) for word in s]\n",
    "            vecs.append(vec)\n",
    "        return vecs"
   ],
   "metadata": {
    "id": "s8HL53xYTGiw",
    "executionInfo": {
     "status": "ok",
     "timestamp": 1660954273879,
     "user_tz": -480,
     "elapsed": 418,
     "user": {
      "displayName": "Xingfu Li",
      "userId": "11879774184867020051"
     }
    }
   },
   "execution_count": 39,
   "outputs": []
  },
  {
   "cell_type": "markdown",
   "source": [
    "# **划分训练集和测试集**"
   ],
   "metadata": {
    "id": "iC9349g-TYeB"
   }
  },
  {
   "cell_type": "code",
   "source": [
    "# 划分训练集和测试集\n",
    "train_set = MessageDataset(True)\n",
    "N_WORDS = train_set.wordNum + 1\n",
    "test_set = MessageDataset(False)"
   ],
   "metadata": {
    "id": "brru1UYYTa70",
    "executionInfo": {
     "status": "ok",
     "timestamp": 1660954282012,
     "user_tz": -480,
     "elapsed": 7687,
     "user": {
      "displayName": "Xingfu Li",
      "userId": "11879774184867020051"
     }
    }
   },
   "execution_count": 40,
   "outputs": []
  },
  {
   "cell_type": "code",
   "source": [
    "def makeTensor(batch):\n",
    "    labels = [label for _, label in batch]\n",
    "    sequences_and_lengths = [(seq, len(seq)) for seq, _ in batch]\n",
    "\n",
    "    text_sequences = [s1[0] for s1 in sequences_and_lengths]\n",
    "    seq_lengths = torch.LongTensor([s1[1] for s1 in sequences_and_lengths])\n",
    "    labels = torch.Tensor(labels).long()\n",
    "\n",
    "    # make tensor of name, BatchSize * seqLen\n",
    "    # 他这里补零的方式先将所有的0 Tensor给初始化出来，然后在每行前面填充每个名字\n",
    "    seq_tensor = torch.zeros(len(text_sequences), seq_lengths.max()).long()\n",
    "    # print(\"seq_lengths.max:\", seq_lengths.max())\n",
    "    for idx, (seq, seq_len) in enumerate(zip(text_sequences, seq_lengths), 0):\n",
    "        seq_tensor[idx, :seq_len] = torch.LongTensor(seq)\n",
    "\n",
    "    # sort by length to use pack_padded_sequence\n",
    "    # 将名字长度降序排列，并且返回降序之后的长度在原tensor中的小标perm_idx\n",
    "    seq_lengths, perm_idx = seq_lengths.sort(dim=0, descending=True)\n",
    "    # 这个Tensor中的类似于列表中切片的方法神奇啊，直接返回下标对应的元素，相等于排序了\n",
    "    seq_tensor = seq_tensor[perm_idx]\n",
    "    labels = labels[perm_idx]\n",
    "    # 返回排序之后名字Tensor，排序之后的名字长度Tensor，排序之后的国家名字Tensor\n",
    "    return seq_tensor, seq_lengths, labels"
   ],
   "metadata": {
    "id": "NjFoTwveTdfn",
    "executionInfo": {
     "status": "ok",
     "timestamp": 1660954282012,
     "user_tz": -480,
     "elapsed": 7,
     "user": {
      "displayName": "Xingfu Li",
      "userId": "11879774184867020051"
     }
    }
   },
   "execution_count": 41,
   "outputs": []
  },
  {
   "cell_type": "markdown",
   "source": [
    "# **创建dataloader**"
   ],
   "metadata": {
    "id": "-3DNyQnHTgbt"
   }
  },
  {
   "cell_type": "code",
   "source": [
    "train_dataloader = DataLoader(train_set, batch_size=BATCH_SIZE, collate_fn=makeTensor)\n",
    "test_dataloader = DataLoader(test_set, batch_size=BATCH_SIZE, collate_fn=makeTensor)"
   ],
   "metadata": {
    "id": "IinipfYjTiAK",
    "executionInfo": {
     "status": "ok",
     "timestamp": 1660954282013,
     "user_tz": -480,
     "elapsed": 7,
     "user": {
      "displayName": "Xingfu Li",
      "userId": "11879774184867020051"
     }
    }
   },
   "execution_count": 42,
   "outputs": []
  },
  {
   "cell_type": "markdown",
   "source": [
    "## **定义模型**"
   ],
   "metadata": {
    "id": "f8VHQOXNTld2"
   }
  },
  {
   "cell_type": "code",
   "source": [
    "class GRUClassifier(torch.nn.Module):\n",
    "    def __init__(self, input_size, hidden_size, output_size):\n",
    "        super().__init__()\n",
    "        # 嵌入层(seqLen, batch_size) --> (seqLen, batch_size, hidden_size)\n",
    "        self.embedding = torch.nn.Embedding(input_size, hidden_size, padding_idx=0)\n",
    "        # GRU循环神经网络\n",
    "        self.gru = torch.nn.GRU(hidden_size, hidden_size)\n",
    "        # 全连接层\n",
    "        self.fc = torch.nn.Linear(hidden_size, output_size)\n",
    "\n",
    "    def forward(self, inputs, seq_lengths):\n",
    "        # input shape : B x S -> S x B\n",
    "        inputs = inputs.t()\n",
    "        embedding = self.embedding(inputs)\n",
    "        gru_input = pack_padded_sequence(embedding, seq_lengths.cpu())\n",
    "        _, hidden = self.gru(gru_input)\n",
    "        hidden_cat = hidden[-1]\n",
    "        output = self.fc(hidden_cat)\n",
    "        return output"
   ],
   "metadata": {
    "id": "dEz69musTkXS",
    "executionInfo": {
     "status": "ok",
     "timestamp": 1660954282014,
     "user_tz": -480,
     "elapsed": 7,
     "user": {
      "displayName": "Xingfu Li",
      "userId": "11879774184867020051"
     }
    }
   },
   "execution_count": 43,
   "outputs": []
  },
  {
   "cell_type": "code",
   "source": [
    "classifier = GRUClassifier(N_WORDS, HIDDEN_SIZE, N_LABELS)\n",
    "criterion = torch.nn.CrossEntropyLoss()\n",
    "optimizer = torch.optim.Adam(classifier.parameters(), lr=0.001)\n",
    "classifier.to(device)  # 模型送到device\n",
    "criterion.to(device)  # 损失函数送到device"
   ],
   "metadata": {
    "id": "C2bcmsH9ToYI",
    "colab": {
     "base_uri": "https://localhost:8080/"
    },
    "executionInfo": {
     "status": "ok",
     "timestamp": 1660954709591,
     "user_tz": -480,
     "elapsed": 429,
     "user": {
      "displayName": "Xingfu Li",
      "userId": "11879774184867020051"
     }
    },
    "outputId": "a5974931-1cb5-45a3-c275-22e3b69540be"
   },
   "execution_count": 51,
   "outputs": [
    {
     "output_type": "execute_result",
     "data": {
      "text/plain": [
       "CrossEntropyLoss()"
      ]
     },
     "metadata": {},
     "execution_count": 51
    }
   ]
  },
  {
   "cell_type": "markdown",
   "source": [
    "# **模型训练**"
   ],
   "metadata": {
    "id": "oSjsH5NFT8m8"
   }
  },
  {
   "cell_type": "code",
   "source": [
    "# 训练模型\n",
    "def train_model():\n",
    "    def time_since(since):\n",
    "        s = time.time() - since\n",
    "        m = math.floor(s / 60)\n",
    "        s -= m * 60\n",
    "        return '%dm %ds' % (m, s)\n",
    "    total_loss = 0\n",
    "    for i, (seq_tensor, seq_lengths, labels) in enumerate(train_dataloader, 1):\n",
    "        # 数据集送到device\n",
    "        seq_tensor = seq_tensor.to(device)\n",
    "        seq_lengths = seq_lengths.to(device)\n",
    "        labels = labels.to(device)\n",
    "\n",
    "        output = classifier(seq_tensor, seq_lengths)\n",
    "        output = output.to(device)\n",
    "        \n",
    "        loss = criterion(output, labels)\n",
    "        optimizer.zero_grad()\n",
    "        loss.backward()\n",
    "        optimizer.step()\n",
    "\n",
    "        total_loss += loss.item()\n",
    "        if i % 9 == 0:\n",
    "            print(f'[{time_since(start)}] Epoch {epoch} ', end='')\n",
    "            print(f'[{i * len(seq_tensor)}/{len(train_set)}] ', end='')\n",
    "            print(f'loss={total_loss / (i * len(seq_tensor))}')\n",
    "    return total_loss"
   ],
   "metadata": {
    "id": "G4LWEZSHTrY1",
    "executionInfo": {
     "status": "ok",
     "timestamp": 1660954282597,
     "user_tz": -480,
     "elapsed": 2,
     "user": {
      "displayName": "Xingfu Li",
      "userId": "11879774184867020051"
     }
    }
   },
   "execution_count": 45,
   "outputs": []
  },
  {
   "cell_type": "markdown",
   "source": [
    "# **模型测试**"
   ],
   "metadata": {
    "id": "qUYoMiBRT6Qo"
   }
  },
  {
   "cell_type": "code",
   "source": [
    "# 测试模型\n",
    "def model_Test():\n",
    "    y_pred = []\n",
    "    y_test = []\n",
    "    correct = 0\n",
    "    total = len(test_set)\n",
    "    print(\"evaluating trained model ... \")\n",
    "    with torch.no_grad():\n",
    "        for i, (seq_tensor, seq_lengths, labels) in enumerate(test_dataloader, 1):\n",
    "            # 数据集送到device\n",
    "            seq_tensor = seq_tensor.to(device)\n",
    "            seq_lengths = seq_lengths.to(device)\n",
    "            labels = labels.to(device)\n",
    "\n",
    "            output = classifier(seq_tensor, seq_lengths)\n",
    "            output = output.to(device)\n",
    "            \n",
    "            # 注意这个keepdim的使用，为了直接和target计算loss\n",
    "            pred = output.max(dim=1, keepdim=True)[1]\n",
    "            for i in pred.view(pred.size()[0]).tolist():\n",
    "                y_pred.append(i)\n",
    "            for i in labels.view(labels.size()[0]).tolist():\n",
    "                y_test.append(i)\n",
    "            # 注意这个view_as 和 eq\n",
    "            correct += pred.eq(labels.view_as(pred)).sum().item()\n",
    "\n",
    "        percent = '%.2f' % (100 * correct / total)\n",
    "        print(f'Test set: Accuracy {correct}/{total} {percent}%')\n",
    "    return correct / total, y_pred, y_test"
   ],
   "metadata": {
    "id": "R9P9ms0tTuDP",
    "executionInfo": {
     "status": "ok",
     "timestamp": 1660954283011,
     "user_tz": -480,
     "elapsed": 2,
     "user": {
      "displayName": "Xingfu Li",
      "userId": "11879774184867020051"
     }
    }
   },
   "execution_count": 46,
   "outputs": []
  },
  {
   "cell_type": "markdown",
   "source": [
    "# **开始训练模型**"
   ],
   "metadata": {
    "id": "BZUEMC0wT4Do"
   }
  },
  {
   "cell_type": "code",
   "source": [
    "start = time.time()\n",
    "print(\"Training for %d epochs...\" % N_EPOCHS)\n",
    "acc_list = []\n",
    "y_pred = []  # 保存测试集标签\n",
    "y_test = []  # 保留准确率最大的一次测试集预测标签\n",
    "for epoch in range(1, N_EPOCHS + 1):\n",
    "    # Train cycle\n",
    "    train_model()\n",
    "    acc, y_pred_epoch, y_test_epoch = model_Test()\n",
    "    acc_list.append(acc)\n",
    "    if acc >= max(acc_list):\n",
    "      y_pred = y_pred_epoch\n",
    "      y_test = y_test_epoch\n",
    "      torch.save(classifier, \"./model/GRU.pth\")\n",
    "print(\"The Best acc is:\", max(acc_list))"
   ],
   "metadata": {
    "id": "KzXE5gHFTvl6",
    "colab": {
     "base_uri": "https://localhost:8080/"
    },
    "outputId": "fb884415-758d-4a6f-9a53-6c65699eb96d",
    "executionInfo": {
     "status": "ok",
     "timestamp": 1660954834036,
     "user_tz": -480,
     "elapsed": 121949,
     "user": {
      "displayName": "Xingfu Li",
      "userId": "11879774184867020051"
     }
    }
   },
   "execution_count": 52,
   "outputs": [
    {
     "output_type": "stream",
     "name": "stdout",
     "text": [
      "Training for 30 epochs...\n",
      "[0m 0s] Epoch 1 [1152/6336] loss=0.014104744419455528\n",
      "[0m 1s] Epoch 1 [2304/6336] loss=0.013216605203019248\n",
      "[0m 1s] Epoch 1 [3456/6336] loss=0.012305347835300144\n",
      "[0m 2s] Epoch 1 [4608/6336] loss=0.011569903581403196\n",
      "[0m 2s] Epoch 1 [5760/6336] loss=0.011001162851850191\n",
      "evaluating trained model ... \n",
      "Test set: Accuracy 1731/2716 63.73%\n",
      "[0m 4s] Epoch 2 [1152/6336] loss=0.006044626132481628\n",
      "[0m 5s] Epoch 2 [2304/6336] loss=0.005876183432216446\n",
      "[0m 6s] Epoch 2 [3456/6336] loss=0.00535105609472979\n",
      "[0m 6s] Epoch 2 [4608/6336] loss=0.005032785004004836\n",
      "[0m 7s] Epoch 2 [5760/6336] loss=0.004830098431557417\n",
      "evaluating trained model ... \n",
      "Test set: Accuracy 1876/2716 69.07%\n",
      "[0m 9s] Epoch 3 [1152/6336] loss=0.002551797454038428\n",
      "[0m 9s] Epoch 3 [2304/6336] loss=0.0023901811542196404\n",
      "[0m 10s] Epoch 3 [3456/6336] loss=0.0021116421256145395\n",
      "[0m 10s] Epoch 3 [4608/6336] loss=0.002057703367124001\n",
      "[0m 11s] Epoch 3 [5760/6336] loss=0.0020706232947607837\n",
      "evaluating trained model ... \n",
      "Test set: Accuracy 2021/2716 74.41%\n",
      "[0m 13s] Epoch 4 [1152/6336] loss=0.001180484315328714\n",
      "[0m 13s] Epoch 4 [2304/6336] loss=0.001015206139224271\n",
      "[0m 14s] Epoch 4 [3456/6336] loss=0.0009050372588077422\n",
      "[0m 15s] Epoch 4 [4608/6336] loss=0.00095382619029907\n",
      "[0m 15s] Epoch 4 [5760/6336] loss=0.0009778380448955835\n",
      "evaluating trained model ... \n",
      "Test set: Accuracy 2045/2716 75.29%\n",
      "[0m 17s] Epoch 5 [1152/6336] loss=0.0008045139030501661\n",
      "[0m 18s] Epoch 5 [2304/6336] loss=0.0006138408886423955\n",
      "[0m 18s] Epoch 5 [3456/6336] loss=0.0005576113703514069\n",
      "[0m 19s] Epoch 5 [4608/6336] loss=0.0005166219147617489\n",
      "[0m 20s] Epoch 5 [5760/6336] loss=0.0004570003228663053\n",
      "evaluating trained model ... \n",
      "Test set: Accuracy 2106/2716 77.54%\n",
      "[0m 22s] Epoch 6 [1152/6336] loss=0.0001290741638513282\n",
      "[0m 22s] Epoch 6 [2304/6336] loss=0.00011484191640597096\n",
      "[0m 23s] Epoch 6 [3456/6336] loss=0.00012302584501513693\n",
      "[0m 23s] Epoch 6 [4608/6336] loss=0.00012347582762433577\n",
      "[0m 24s] Epoch 6 [5760/6336] loss=0.00011375427590489077\n",
      "evaluating trained model ... \n",
      "Test set: Accuracy 2120/2716 78.06%\n",
      "[0m 26s] Epoch 7 [1152/6336] loss=3.085369846505475e-05\n",
      "[0m 27s] Epoch 7 [2304/6336] loss=2.957707430242509e-05\n",
      "[0m 27s] Epoch 7 [3456/6336] loss=4.696206835635369e-05\n",
      "[0m 28s] Epoch 7 [4608/6336] loss=5.2495216020057946e-05\n",
      "[0m 28s] Epoch 7 [5760/6336] loss=4.565283781832679e-05\n",
      "evaluating trained model ... \n",
      "Test set: Accuracy 2151/2716 79.20%\n",
      "[0m 30s] Epoch 8 [1152/6336] loss=1.2821871476060349e-05\n",
      "[0m 31s] Epoch 8 [2304/6336] loss=1.2248618329774925e-05\n",
      "[0m 31s] Epoch 8 [3456/6336] loss=3.095049019234634e-05\n",
      "[0m 32s] Epoch 8 [4608/6336] loss=3.1344264736314166e-05\n",
      "[0m 33s] Epoch 8 [5760/6336] loss=2.721620022485796e-05\n",
      "evaluating trained model ... \n",
      "Test set: Accuracy 2168/2716 79.82%\n",
      "[0m 34s] Epoch 9 [1152/6336] loss=6.7559452771901206e-06\n",
      "[0m 35s] Epoch 9 [2304/6336] loss=6.910979714626188e-06\n",
      "[0m 36s] Epoch 9 [3456/6336] loss=1.722989763611285e-05\n",
      "[0m 36s] Epoch 9 [4608/6336] loss=2.0334016678841887e-05\n",
      "[0m 37s] Epoch 9 [5760/6336] loss=1.819469975493525e-05\n",
      "evaluating trained model ... \n",
      "Test set: Accuracy 2175/2716 80.08%\n",
      "[0m 39s] Epoch 10 [1152/6336] loss=4.912790422571965e-06\n",
      "[0m 39s] Epoch 10 [2304/6336] loss=5.192679067375947e-06\n",
      "[0m 40s] Epoch 10 [3456/6336] loss=1.843872317934896e-05\n",
      "[0m 40s] Epoch 10 [4608/6336] loss=1.9065543199303647e-05\n",
      "[0m 41s] Epoch 10 [5760/6336] loss=1.6695967537493238e-05\n",
      "evaluating trained model ... \n",
      "Test set: Accuracy 2184/2716 80.41%\n",
      "[0m 43s] Epoch 11 [1152/6336] loss=3.84404794810204e-06\n",
      "[0m 44s] Epoch 11 [2304/6336] loss=4.073612444699393e-06\n",
      "[0m 44s] Epoch 11 [3456/6336] loss=1.4419561635063642e-05\n",
      "[0m 45s] Epoch 11 [4608/6336] loss=1.663780609659524e-05\n",
      "[0m 45s] Epoch 11 [5760/6336] loss=1.4724253595785638e-05\n",
      "evaluating trained model ... \n",
      "Test set: Accuracy 2187/2716 80.52%\n",
      "[0m 47s] Epoch 12 [1152/6336] loss=3.1324802370767834e-06\n",
      "[0m 48s] Epoch 12 [2304/6336] loss=3.353497567736162e-06\n",
      "[0m 48s] Epoch 12 [3456/6336] loss=1.4918900643789567e-05\n",
      "[0m 49s] Epoch 12 [4608/6336] loss=1.6049584473876166e-05\n",
      "[0m 50s] Epoch 12 [5760/6336] loss=1.4041506442986751e-05\n",
      "evaluating trained model ... \n",
      "Test set: Accuracy 2198/2716 80.93%\n",
      "[0m 51s] Epoch 13 [1152/6336] loss=2.631743932902787e-06\n",
      "[0m 52s] Epoch 13 [2304/6336] loss=2.8185658670231028e-06\n",
      "[0m 53s] Epoch 13 [3456/6336] loss=1.3069614632749344e-05\n",
      "[0m 53s] Epoch 13 [4608/6336] loss=1.4846755940804238e-05\n",
      "[0m 54s] Epoch 13 [5760/6336] loss=1.3046702515061447e-05\n",
      "evaluating trained model ... \n",
      "Test set: Accuracy 2204/2716 81.15%\n",
      "[0m 56s] Epoch 14 [1152/6336] loss=2.2498817063226143e-06\n",
      "[0m 56s] Epoch 14 [2304/6336] loss=2.418497861829868e-06\n",
      "[0m 57s] Epoch 14 [3456/6336] loss=1.3006016000939848e-05\n",
      "[0m 57s] Epoch 14 [4608/6336] loss=1.4388280590083014e-05\n",
      "[0m 58s] Epoch 14 [5760/6336] loss=1.2571963758192498e-05\n",
      "evaluating trained model ... \n",
      "Test set: Accuracy 2203/2716 81.11%\n",
      "[0m 59s] Epoch 15 [1152/6336] loss=1.954699920740192e-06\n",
      "[1m 0s] Epoch 15 [2304/6336] loss=2.101776229008263e-06\n",
      "[1m 1s] Epoch 15 [3456/6336] loss=1.210675986840215e-05\n",
      "[1m 1s] Epoch 15 [4608/6336] loss=1.3705556401393753e-05\n",
      "[1m 2s] Epoch 15 [5760/6336] loss=1.198599509027392e-05\n",
      "evaluating trained model ... \n",
      "Test set: Accuracy 2204/2716 81.15%\n",
      "[1m 4s] Epoch 16 [1152/6336] loss=1.7175488361923878e-06\n",
      "[1m 5s] Epoch 16 [2304/6336] loss=1.8495525119356494e-06\n",
      "[1m 5s] Epoch 16 [3456/6336] loss=1.1826858511725462e-05\n",
      "[1m 6s] Epoch 16 [4608/6336] loss=1.331440064531206e-05\n",
      "[1m 6s] Epoch 16 [5760/6336] loss=1.1611527389100552e-05\n",
      "evaluating trained model ... \n",
      "Test set: Accuracy 2206/2716 81.22%\n",
      "[1m 8s] Epoch 17 [1152/6336] loss=1.5246679620556986e-06\n",
      "[1m 9s] Epoch 17 [2304/6336] loss=1.6424369341115785e-06\n",
      "[1m 9s] Epoch 17 [3456/6336] loss=1.132995508770465e-05\n",
      "[1m 10s] Epoch 17 [4608/6336] loss=1.2886029973439387e-05\n",
      "[1m 11s] Epoch 17 [5760/6336] loss=1.1228458460108312e-05\n",
      "evaluating trained model ... \n",
      "Test set: Accuracy 2201/2716 81.04%\n",
      "[1m 12s] Epoch 18 [1152/6336] loss=1.3645936986803363e-06\n",
      "[1m 13s] Epoch 18 [2304/6336] loss=1.4711294006196517e-06\n",
      "[1m 13s] Epoch 18 [3456/6336] loss=1.1029335904890172e-05\n",
      "[1m 14s] Epoch 18 [4608/6336] loss=1.2574930900023497e-05\n",
      "[1m 14s] Epoch 18 [5760/6336] loss=1.093385538095188e-05\n",
      "evaluating trained model ... \n",
      "Test set: Accuracy 2200/2716 81.00%\n",
      "[1m 16s] Epoch 19 [1152/6336] loss=1.2296821599496373e-06\n",
      "[1m 16s] Epoch 19 [2304/6336] loss=1.326313338267937e-06\n",
      "[1m 17s] Epoch 19 [3456/6336] loss=1.0695348540442259e-05\n",
      "[1m 18s] Epoch 19 [4608/6336] loss=1.227797643979203e-05\n",
      "[1m 18s] Epoch 19 [5760/6336] loss=1.065257834953728e-05\n",
      "evaluating trained model ... \n",
      "Test set: Accuracy 2199/2716 80.96%\n",
      "[1m 20s] Epoch 20 [1152/6336] loss=1.11496526895078e-06\n",
      "[1m 20s] Epoch 20 [2304/6336] loss=1.2032425142175878e-06\n",
      "[1m 21s] Epoch 20 [3456/6336] loss=1.0413436728884807e-05\n",
      "[1m 21s] Epoch 20 [4608/6336] loss=1.2031612554450374e-05\n",
      "[1m 22s] Epoch 20 [5760/6336] loss=1.0409137485112296e-05\n",
      "evaluating trained model ... \n",
      "Test set: Accuracy 2204/2716 81.15%\n",
      "[1m 23s] Epoch 21 [1152/6336] loss=1.0175257140569254e-06\n",
      "[1m 24s] Epoch 21 [2304/6336] loss=1.0986398106322465e-06\n",
      "[1m 24s] Epoch 21 [3456/6336] loss=1.0127438778690029e-05\n",
      "[1m 25s] Epoch 21 [4608/6336] loss=1.1800689618566037e-05\n",
      "[1m 26s] Epoch 21 [5760/6336] loss=1.0173019600440764e-05\n",
      "evaluating trained model ... \n",
      "Test set: Accuracy 2209/2716 81.33%\n",
      "[1m 28s] Epoch 22 [1152/6336] loss=9.32455855541371e-07\n",
      "[1m 28s] Epoch 22 [2304/6336] loss=1.0058319869838467e-06\n",
      "[1m 29s] Epoch 22 [3456/6336] loss=9.79306261999429e-06\n",
      "[1m 29s] Epoch 22 [4608/6336] loss=1.1543697607092125e-05\n",
      "[1m 30s] Epoch 22 [5760/6336] loss=1.0006714008644243e-05\n",
      "evaluating trained model ... \n",
      "Test set: Accuracy 2206/2716 81.22%\n",
      "[1m 31s] Epoch 23 [1152/6336] loss=8.658441225230085e-07\n",
      "[1m 32s] Epoch 23 [2304/6336] loss=9.377360217715452e-07\n",
      "[1m 33s] Epoch 23 [3456/6336] loss=9.138272061035321e-06\n",
      "[1m 33s] Epoch 23 [4608/6336] loss=5.982359794782294e-05\n",
      "[1m 34s] Epoch 23 [5760/6336] loss=0.00013957787111343754\n",
      "evaluating trained model ... \n",
      "Test set: Accuracy 2031/2716 74.78%\n",
      "[1m 35s] Epoch 24 [1152/6336] loss=0.0005288676475174725\n",
      "[1m 36s] Epoch 24 [2304/6336] loss=0.0004757282780095314\n",
      "[1m 36s] Epoch 24 [3456/6336] loss=0.00045377018411980115\n",
      "[1m 37s] Epoch 24 [4608/6336] loss=0.00044679175941079546\n",
      "[1m 38s] Epoch 24 [5760/6336] loss=0.0004962929401598457\n",
      "evaluating trained model ... \n",
      "Test set: Accuracy 1991/2716 73.31%\n",
      "[1m 39s] Epoch 25 [1152/6336] loss=0.0005299946933519095\n",
      "[1m 40s] Epoch 25 [2304/6336] loss=0.00047039924134474457\n",
      "[1m 40s] Epoch 25 [3456/6336] loss=0.0004116364639399021\n",
      "[1m 41s] Epoch 25 [4608/6336] loss=0.0003655417189697295\n",
      "[1m 41s] Epoch 25 [5760/6336] loss=0.0003226889370125718\n",
      "evaluating trained model ... \n",
      "Test set: Accuracy 2072/2716 76.29%\n",
      "[1m 43s] Epoch 26 [1152/6336] loss=0.00025687864460148074\n",
      "[1m 43s] Epoch 26 [2304/6336] loss=0.00017804327631488882\n",
      "[1m 44s] Epoch 26 [3456/6336] loss=0.00017691613127815935\n",
      "[1m 45s] Epoch 26 [4608/6336] loss=0.00016033903228971112\n",
      "[1m 45s] Epoch 26 [5760/6336] loss=0.00015724134755146224\n",
      "evaluating trained model ... \n",
      "Test set: Accuracy 2077/2716 76.47%\n",
      "[1m 47s] Epoch 27 [1152/6336] loss=5.7935415497922804e-05\n",
      "[1m 47s] Epoch 27 [2304/6336] loss=6.116132746885544e-05\n",
      "[1m 48s] Epoch 27 [3456/6336] loss=6.577527202117144e-05\n",
      "[1m 48s] Epoch 27 [4608/6336] loss=6.783949940351401e-05\n",
      "[1m 49s] Epoch 27 [5760/6336] loss=5.849682610359095e-05\n",
      "evaluating trained model ... \n",
      "Test set: Accuracy 2122/2716 78.13%\n",
      "[1m 50s] Epoch 28 [1152/6336] loss=3.595692209677913e-05\n",
      "[1m 51s] Epoch 28 [2304/6336] loss=3.39496599129537e-05\n",
      "[1m 52s] Epoch 28 [3456/6336] loss=3.766708290539908e-05\n",
      "[1m 52s] Epoch 28 [4608/6336] loss=3.282185711997146e-05\n",
      "[1m 53s] Epoch 28 [5760/6336] loss=2.9056359997209964e-05\n",
      "evaluating trained model ... \n",
      "Test set: Accuracy 2150/2716 79.16%\n",
      "[1m 54s] Epoch 29 [1152/6336] loss=6.456060822933472e-06\n",
      "[1m 55s] Epoch 29 [2304/6336] loss=4.989122973913456e-06\n",
      "[1m 55s] Epoch 29 [3456/6336] loss=1.3139614263006175e-05\n",
      "[1m 56s] Epoch 29 [4608/6336] loss=1.4847401716780143e-05\n",
      "[1m 57s] Epoch 29 [5760/6336] loss=1.293791555478189e-05\n",
      "evaluating trained model ... \n",
      "Test set: Accuracy 2145/2716 78.98%\n",
      "[1m 58s] Epoch 30 [1152/6336] loss=1.976306382150344e-06\n",
      "[1m 58s] Epoch 30 [2304/6336] loss=1.92075557000256e-06\n",
      "[1m 59s] Epoch 30 [3456/6336] loss=1.1762573821956553e-05\n",
      "[2m 0s] Epoch 30 [4608/6336] loss=1.2922820104677157e-05\n",
      "[2m 0s] Epoch 30 [5760/6336] loss=1.1260855899308808e-05\n",
      "evaluating trained model ... \n",
      "Test set: Accuracy 2149/2716 79.12%\n",
      "The Best acc is: 0.8133284241531664\n"
     ]
    }
   ]
  },
  {
   "cell_type": "markdown",
   "source": [
    "# **画图、混淆矩阵**"
   ],
   "metadata": {
    "id": "S7P7-4tvT-5V"
   }
  },
  {
   "cell_type": "code",
   "source": [
    "plt.figure()\n",
    "conf_mat = confusion_matrix(y_test, y_pred)  # 混淆矩阵\n",
    "ticklabels = [\"0\", \"1\", \"2\", \"3\", \"4\", \"5\", \"6\"]\n",
    "fig, ax = plt.subplots(figsize=(10, 8))\n",
    "sns.heatmap(conf_mat, annot=True, fmt='d',\n",
    "            xticklabels=ticklabels, yticklabels=ticklabels)\n",
    "plt.ylabel('Actual results', fontsize=15)  # 设置X轴名称\n",
    "plt.xlabel('Prediction results', fontsize=15)  # 设置Y轴名称\n",
    "plt.title(\"GRU\")  # 设置标题名称为模型名称\n",
    "plt.savefig(\"./results/\" + \"GRU\" + '_confusion_matrix.png')  # 保存混淆矩阵图片\n",
    "plt.show()\n",
    "# 模型评估报告，包含了Precision，Recall和F1-Score\n",
    "report = classification_report(y_test, y_pred, target_names=[\"城乡建设\", \"环境保护\", \"交通运输\", \"教育文体\", \"劳动和社会保障\", \"商贸旅游\", \"卫生计生\"])\n",
    "print(report)"
   ],
   "metadata": {
    "id": "It_pYAIbTx4n",
    "colab": {
     "base_uri": "https://localhost:8080/",
     "height": 778
    },
    "executionInfo": {
     "status": "ok",
     "timestamp": 1660954835253,
     "user_tz": -480,
     "elapsed": 1236,
     "user": {
      "displayName": "Xingfu Li",
      "userId": "11879774184867020051"
     }
    },
    "outputId": "67a9cb4c-a987-449b-cf3a-b0210b0638a6"
   },
   "execution_count": 53,
   "outputs": [
    {
     "output_type": "display_data",
     "data": {
      "text/plain": [
       "<Figure size 432x288 with 0 Axes>"
      ]
     },
     "metadata": {}
    },
    {
     "output_type": "display_data",
     "data": {
      "text/plain": [
       "<Figure size 720x576 with 2 Axes>"
      ],
      "image/png": "[encoded data removed]"
     },
     "metadata": {
      "needs_background": "light"
     }
    },
    {
     "output_type": "stream",
     "name": "stdout",
     "text": [
      "              precision    recall  f1-score   support\n",
      "\n",
      "        城乡建设       0.75      0.81      0.78       571\n",
      "        环境保护       0.88      0.81      0.85       292\n",
      "        交通运输       0.69      0.55      0.61       176\n",
      "        教育文体       0.89      0.91      0.90       470\n",
      "     劳动和社会保障       0.89      0.88      0.88       589\n",
      "        商贸旅游       0.72      0.71      0.72       368\n",
      "        卫生计生       0.77      0.81      0.79       250\n",
      "\n",
      "    accuracy                           0.81      2716\n",
      "   macro avg       0.80      0.78      0.79      2716\n",
      "weighted avg       0.81      0.81      0.81      2716\n",
      "\n"
     ]
    }
   ]
  },
  {
   "cell_type": "code",
   "source": [
    "epoch = np.arange(1, len(acc_list) + 1)\n",
    "acc_list = np.array(acc_list)\n",
    "plt.plot(epoch, acc_list)\n",
    "plt.xlabel('Epoch')\n",
    "plt.ylabel('Accuracy')\n",
    "plt.grid()\n",
    "plt.show()"
   ],
   "metadata": {
    "id": "7iiCwz0WT0nY",
    "colab": {
     "base_uri": "https://localhost:8080/",
     "height": 279
    },
    "executionInfo": {
     "status": "ok",
     "timestamp": 1660954835254,
     "user_tz": -480,
     "elapsed": 6,
     "user": {
      "displayName": "Xingfu Li",
      "userId": "11879774184867020051"
     }
    },
    "outputId": "a8aaa61a-85a0-4d61-de5b-c628d8e82ac3"
   },
   "execution_count": 54,
   "outputs": [
    {
     "output_type": "display_data",
     "data": {
      "text/plain": [
       "<Figure size 432x288 with 1 Axes>"
      ],
      "image/png": "[encoded data removed]"
     },
     "metadata": {
      "needs_background": "light"
     }
    }
   ]
  }
 ]
}